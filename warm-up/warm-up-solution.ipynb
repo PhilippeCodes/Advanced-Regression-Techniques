{
 "cells": [
  {
   "cell_type": "markdown",
   "metadata": {},
   "source": [
    "# Warm-Up"
   ]
  },
  {
   "cell_type": "markdown",
   "metadata": {},
   "source": [
    "1. [Task 1](#1)<br>\n",
    "2. [Task 2](#2)<br>\n",
    "3. [Task 3](#3)<br>"
   ]
  },
  {
   "cell_type": "markdown",
   "metadata": {},
   "source": [
    "***"
   ]
  },
  {
   "cell_type": "code",
   "execution_count": 1,
   "metadata": {},
   "outputs": [],
   "source": [
    "import pandas as pd\n",
    "import numpy as np\n",
    "import matplotlib.pyplot as plt\n",
    "import seaborn as sns\n",
    "from scipy import stats\n",
    "from sklearn.model_selection import train_test_split\n",
    "from sklearn.preprocessing import PolynomialFeatures\n",
    "from sklearn.linear_model import LinearRegression, HuberRegressor, Ridge\n",
    "from sklearn.metrics import mean_absolute_error as mae\n",
    "sns.set()\n",
    "%matplotlib inline"
   ]
  },
  {
   "cell_type": "markdown",
   "metadata": {},
   "source": [
    "***"
   ]
  },
  {
   "cell_type": "markdown",
   "metadata": {},
   "source": [
    "## Task 1\n",
    "<a id=\"1\" > "
   ]
  },
  {
   "cell_type": "markdown",
   "metadata": {},
   "source": [
    "The first task consists of fitting the following equation to a set of 50 x/y data points using the polyfit() function from Numpy.\n",
    "Perform the following steps:\n",
    "\n",
    "- Fit the equation using polyfit() and print the a, b parameters.\n",
    "- Plot your model with the 50 data points, i.e., the curve that corresponds to the equation from above.\n",
    "- Compute and print the R-squared coefficient using Numpy.\n",
    "- Explain how the polyfit() function finds the optimal parameters (1-2 sentences)\n",
    "- Give two differences between this method and the gradient descent one. Write a short sentence for each one.\n",
    "\n",
    "Write your solution to each point in a new code cell. You can use markdown cells for the last two points."
   ]
  },
  {
   "cell_type": "code",
   "execution_count": 2,
   "metadata": {},
   "outputs": [
    {
     "data": {
      "text/html": [
       "<div>\n",
       "<style scoped>\n",
       "    .dataframe tbody tr th:only-of-type {\n",
       "        vertical-align: middle;\n",
       "    }\n",
       "\n",
       "    .dataframe tbody tr th {\n",
       "        vertical-align: top;\n",
       "    }\n",
       "\n",
       "    .dataframe thead th {\n",
       "        text-align: right;\n",
       "    }\n",
       "</style>\n",
       "<table border=\"1\" class=\"dataframe\">\n",
       "  <thead>\n",
       "    <tr style=\"text-align: right;\">\n",
       "      <th></th>\n",
       "      <th>x</th>\n",
       "      <th>y</th>\n",
       "    </tr>\n",
       "  </thead>\n",
       "  <tbody>\n",
       "    <tr>\n",
       "      <th>0</th>\n",
       "      <td>10.529</td>\n",
       "      <td>39.105</td>\n",
       "    </tr>\n",
       "    <tr>\n",
       "      <th>1</th>\n",
       "      <td>10.799</td>\n",
       "      <td>40.584</td>\n",
       "    </tr>\n",
       "    <tr>\n",
       "      <th>2</th>\n",
       "      <td>11.698</td>\n",
       "      <td>39.883</td>\n",
       "    </tr>\n",
       "    <tr>\n",
       "      <th>3</th>\n",
       "      <td>12.851</td>\n",
       "      <td>39.411</td>\n",
       "    </tr>\n",
       "    <tr>\n",
       "      <th>4</th>\n",
       "      <td>13.565</td>\n",
       "      <td>40.760</td>\n",
       "    </tr>\n",
       "  </tbody>\n",
       "</table>\n",
       "</div>"
      ],
      "text/plain": [
       "        x       y\n",
       "0  10.529  39.105\n",
       "1  10.799  40.584\n",
       "2  11.698  39.883\n",
       "3  12.851  39.411\n",
       "4  13.565  40.760"
      ]
     },
     "execution_count": 2,
     "metadata": {},
     "output_type": "execute_result"
    }
   ],
   "source": [
    "df_1 = pd.read_csv('task-1.csv')\n",
    "df_1.head()"
   ]
  },
  {
   "cell_type": "code",
   "execution_count": 3,
   "metadata": {},
   "outputs": [
    {
     "name": "stdout",
     "output_type": "stream",
     "text": [
      "3.390240997713799 31.529201219296127\n"
     ]
    }
   ],
   "source": [
    "x_1 = df_1.x.values\n",
    "y_1 = df_1.y.values\n",
    "\n",
    "coefs_1 = np.polyfit(np.log(x_1),y_1, deg=1)\n",
    "a_1, b_1 = coefs_1\n",
    "\n",
    "print(a_1, b_1)"
   ]
  },
  {
   "cell_type": "code",
   "execution_count": 4,
   "metadata": {},
   "outputs": [
    {
     "data": {
      "image/png": "[encoded data removed]",
      "text/plain": [
       "<matplotlib.figure.Figure at 0x1a17245978>"
      ]
     },
     "metadata": {
      "needs_background": "light"
     },
     "output_type": "display_data"
    }
   ],
   "source": [
    "x_values_1 = np.linspace(x_1.min(), x_1.max(), num=len(x_1))\n",
    "y_values_1 = np.polyval(coefs_1, np.log(x_values_1))\n",
    "\n",
    "plt.scatter(x_1,y_1)\n",
    "plt.plot(x_values_1, y_values_1, color='red', label='po1yfit(deg=1)')\n",
    "\n",
    "\n",
    "plt.show()"
   ]
  },
  {
   "cell_type": "code",
   "execution_count": 5,
   "metadata": {},
   "outputs": [
    {
     "name": "stdout",
     "output_type": "stream",
     "text": [
      "0.9411567093138288\n"
     ]
    }
   ],
   "source": [
    "def RSS(y, y_pred):\n",
    "    return np.sum(np.square(np.subtract(y,y_pred)))\n",
    "\n",
    "rss_baseline_1 = RSS(y_1, y_1.mean())\n",
    "rss_model_1 = RSS(y_1, np.polyval(coefs_1, np.log(x_1)))\n",
    "\n",
    "\n",
    "R2_1 = 1 - (rss_model_1 / rss_baseline_1)\n",
    "print(R2_1)"
   ]
  },
  {
   "cell_type": "markdown",
   "metadata": {},
   "source": [
    "Polyfit tries to model the relationship between two variables with a polynomial equation. There is an intercept term b which describes the value of our function when x = 0. And there is also the term a which gives us the slope of our function. The degree of our polynomial describes the power of the variable x."
   ]
  },
  {
   "cell_type": "markdown",
   "metadata": {},
   "source": [
    "Unlike polyfit, gradient descent uses a learning rate and the gradient of the loss function to compute the parameters\n",
    "update. It is an iterative algorithm that takes small steps in the opposite direction of the gradient."
   ]
  },
  {
   "cell_type": "markdown",
   "metadata": {},
   "source": [
    "***"
   ]
  },
  {
   "cell_type": "markdown",
   "metadata": {},
   "source": [
    "## Task 2\n",
    "<a id=\"2\" > "
   ]
  },
  {
   "cell_type": "markdown",
   "metadata": {},
   "source": [
    "In the second task, you have to fit a linear regression model to a data set which contains outliers. This time, you can use the estimators from the Scikit-learn library. The data consists of three features x1, x2, x3 and a target variable y.\n",
    "\n",
    "Perform the following steps:\n",
    "\n",
    "- Load and split the data into 80-20 train/test sets using train_test_split(). Set the random_state to zero.\n",
    "- Fit and evaluate a linear regression using the train/test set methodology. Print the mean absolute error (MAE) on the test set.\n",
    "- Improve your test MAE by removing outliers from the train set.\n",
    "- Fit a linear regression with Huber loss (using the train points with outliers). Print its MAE on the test set.\n",
    "\n",
    "There are two ways to remove the outliers:\n",
    "- Remove them manually using a logical expression. For instance, x1 should be between _ and _, x2 between _ and _, and x3 between _ and _\n",
    "- Automatically using z-scores. For instance, z-scores of the x1, x2 and x3 variables should be between _ and _\n",
    "\n",
    "If you choose to remove the outliers manually, you can plot histograms to define the range of reasonable values for each variable. If you decide to remove them using z-scores, you can set a condition on the absolute values, e.g., abs(z-scores) < 2.\n",
    "\n"
   ]
  },
  {
   "cell_type": "code",
   "execution_count": 6,
   "metadata": {},
   "outputs": [
    {
     "data": {
      "text/html": [
       "<div>\n",
       "<style scoped>\n",
       "    .dataframe tbody tr th:only-of-type {\n",
       "        vertical-align: middle;\n",
       "    }\n",
       "\n",
       "    .dataframe tbody tr th {\n",
       "        vertical-align: top;\n",
       "    }\n",
       "\n",
       "    .dataframe thead th {\n",
       "        text-align: right;\n",
       "    }\n",
       "</style>\n",
       "<table border=\"1\" class=\"dataframe\">\n",
       "  <thead>\n",
       "    <tr style=\"text-align: right;\">\n",
       "      <th></th>\n",
       "      <th>x1</th>\n",
       "      <th>x2</th>\n",
       "      <th>x3</th>\n",
       "      <th>y</th>\n",
       "    </tr>\n",
       "  </thead>\n",
       "  <tbody>\n",
       "    <tr>\n",
       "      <th>0</th>\n",
       "      <td>7.892</td>\n",
       "      <td>318.818</td>\n",
       "      <td>162.970</td>\n",
       "      <td>2112.420</td>\n",
       "    </tr>\n",
       "    <tr>\n",
       "      <th>1</th>\n",
       "      <td>8.830</td>\n",
       "      <td>303.180</td>\n",
       "      <td>181.399</td>\n",
       "      <td>2096.231</td>\n",
       "    </tr>\n",
       "    <tr>\n",
       "      <th>2</th>\n",
       "      <td>13.811</td>\n",
       "      <td>296.231</td>\n",
       "      <td>145.849</td>\n",
       "      <td>2067.045</td>\n",
       "    </tr>\n",
       "    <tr>\n",
       "      <th>3</th>\n",
       "      <td>12.863</td>\n",
       "      <td>325.830</td>\n",
       "      <td>167.996</td>\n",
       "      <td>2269.262</td>\n",
       "    </tr>\n",
       "    <tr>\n",
       "      <th>4</th>\n",
       "      <td>13.698</td>\n",
       "      <td>254.035</td>\n",
       "      <td>171.892</td>\n",
       "      <td>1966.604</td>\n",
       "    </tr>\n",
       "  </tbody>\n",
       "</table>\n",
       "</div>"
      ],
      "text/plain": [
       "       x1       x2       x3         y\n",
       "0   7.892  318.818  162.970  2112.420\n",
       "1   8.830  303.180  181.399  2096.231\n",
       "2  13.811  296.231  145.849  2067.045\n",
       "3  12.863  325.830  167.996  2269.262\n",
       "4  13.698  254.035  171.892  1966.604"
      ]
     },
     "execution_count": 6,
     "metadata": {},
     "output_type": "execute_result"
    }
   ],
   "source": [
    "df_2 = pd.read_csv('task-2.csv')\n",
    "df_2.head()"
   ]
  },
  {
   "cell_type": "code",
   "execution_count": 7,
   "metadata": {},
   "outputs": [
    {
     "name": "stdout",
     "output_type": "stream",
     "text": [
      "Train DataFrame: (800, 4)\n",
      "TestDataFrame: (200, 4)\n"
     ]
    }
   ],
   "source": [
    "train_df, test_df = train_test_split(\n",
    "df_2, train_size=0.8, test_size=0.2, random_state=0)\n",
    "\n",
    "print('Train DataFrame:', train_df.shape)\n",
    "print('TestDataFrame:', test_df.shape)\n",
    "\n",
    "X_tr = train_df.drop('y', axis=1).values\n",
    "y_tr = train_df.y.values\n",
    "\n",
    "X_te = test_df.drop('y', axis=1).values\n",
    "y_te = test_df.y.values"
   ]
  },
  {
   "cell_type": "code",
   "execution_count": 8,
   "metadata": {},
   "outputs": [
    {
     "name": "stdout",
     "output_type": "stream",
     "text": [
      "Coefficients: [ 3.18946219  0.72611244 -0.29586984]\n",
      "Intercept: 1982.1964160299176\n"
     ]
    }
   ],
   "source": [
    "# Linear regression\n",
    "lr = LinearRegression()\n",
    "lr.fit(X_tr,y_tr) \n",
    "y_pred_1r = lr.predict(X_te)\n",
    "\n",
    "print ('Coefficients:', lr.coef_)\n",
    "print ('Intercept:', lr.intercept_)"
   ]
  },
  {
   "cell_type": "code",
   "execution_count": 9,
   "metadata": {},
   "outputs": [
    {
     "name": "stdout",
     "output_type": "stream",
     "text": [
      "MAE linear regression: 104.788\n"
     ]
    }
   ],
   "source": [
    "mae_lr = mae(y_te, y_pred_1r)\n",
    "print('MAE linear regression: {:.3f}'.format(mae_lr))"
   ]
  },
  {
   "cell_type": "code",
   "execution_count": 10,
   "metadata": {},
   "outputs": [],
   "source": [
    "# Removing Outliers\n",
    "train_df_no_outliers = train_df[(np.abs(stats.zscore(train_df)) < 3).all(axis=1)]\n",
    "\n",
    "X_tr_n_o = train_df_no_outliers.drop('y', axis=1).values\n",
    "y_tr_n_o = train_df_no_outliers.y.values"
   ]
  },
  {
   "cell_type": "code",
   "execution_count": 11,
   "metadata": {},
   "outputs": [
    {
     "name": "stdout",
     "output_type": "stream",
     "text": [
      "MAE linear regression (without outliers): 70.997\n"
     ]
    }
   ],
   "source": [
    "# Linear regression without ourliers\n",
    "lr = LinearRegression()\n",
    "lr.fit(X_tr_n_o, y_tr_n_o)\n",
    "y_pred_1r_n_o = lr.predict(X_te)\n",
    "    \n",
    "mae_lr = mae(y_te, y_pred_1r_n_o)\n",
    "print('MAE linear regression (without outliers): {:.3f}'.format(mae_lr))"
   ]
  },
  {
   "cell_type": "code",
   "execution_count": 12,
   "metadata": {},
   "outputs": [
    {
     "name": "stdout",
     "output_type": "stream",
     "text": [
      "MAE Huber: 83.908\n"
     ]
    },
    {
     "name": "stderr",
     "output_type": "stream",
     "text": [
      "/anaconda2/envs/exts-aml2/lib/python3.6/site-packages/sklearn/utils/__init__.py:93: FutureWarning: Conversion of the second argument of issubdtype from `int` to `np.signedinteger` is deprecated. In future, it will be treated as `np.int64 == np.dtype(int).type`.\n",
      "  if np.issubdtype(mask.dtype, np.int):\n"
     ]
    }
   ],
   "source": [
    "# Huber loss\n",
    "huber = HuberRegressor()\n",
    "huber.fit(X_tr, y_tr) \n",
    "y_pred_huber = huber.predict(X_te)\n",
    "\n",
    "mae_huber= mae(y_te, y_pred_huber) \n",
    "print('MAE Huber: {:.3f}'.format(mae_huber))"
   ]
  },
  {
   "cell_type": "markdown",
   "metadata": {},
   "source": [
    "***"
   ]
  },
  {
   "cell_type": "markdown",
   "metadata": {},
   "source": [
    "## Task 3\n",
    "<a id=\"3\" > "
   ]
  },
  {
   "cell_type": "markdown",
   "metadata": {},
   "source": [
    "The goal of the third task is to fit a polynomial regression of degree 10 to the following set of 50 x/y data points. You will have to apply regularization to avoid overfitting.\n",
    "\n",
    "Your code should include the following steps:\n",
    "\n",
    "- Split data into 50-50 train/test sets using train_test_split(). Set the random_state to zero.\n",
    "- Fit a polynomial of degree 10 to the train set. Print its residual sum of squares (RSS) on the train/test sets. Does your model overfit?\n",
    "- Plot your model with the 50 data points, i.e., the curve that corresponds to your polynomial regression.\n",
    "- Apply regularization using ridge regression. Tune the regularization strength using grid search.\n",
    "- Compute the train/test RSS of your (tuned) ridge regression model and plot the new curve.\n",
    "\n"
   ]
  },
  {
   "cell_type": "code",
   "execution_count": 13,
   "metadata": {},
   "outputs": [
    {
     "data": {
      "text/html": [
       "<div>\n",
       "<style scoped>\n",
       "    .dataframe tbody tr th:only-of-type {\n",
       "        vertical-align: middle;\n",
       "    }\n",
       "\n",
       "    .dataframe tbody tr th {\n",
       "        vertical-align: top;\n",
       "    }\n",
       "\n",
       "    .dataframe thead th {\n",
       "        text-align: right;\n",
       "    }\n",
       "</style>\n",
       "<table border=\"1\" class=\"dataframe\">\n",
       "  <thead>\n",
       "    <tr style=\"text-align: right;\">\n",
       "      <th></th>\n",
       "      <th>x</th>\n",
       "      <th>y</th>\n",
       "    </tr>\n",
       "  </thead>\n",
       "  <tbody>\n",
       "    <tr>\n",
       "      <th>0</th>\n",
       "      <td>3.588</td>\n",
       "      <td>0.473</td>\n",
       "    </tr>\n",
       "    <tr>\n",
       "      <th>1</th>\n",
       "      <td>3.551</td>\n",
       "      <td>0.784</td>\n",
       "    </tr>\n",
       "    <tr>\n",
       "      <th>2</th>\n",
       "      <td>3.610</td>\n",
       "      <td>0.847</td>\n",
       "    </tr>\n",
       "    <tr>\n",
       "      <th>3</th>\n",
       "      <td>3.704</td>\n",
       "      <td>0.904</td>\n",
       "    </tr>\n",
       "    <tr>\n",
       "      <th>4</th>\n",
       "      <td>3.716</td>\n",
       "      <td>1.118</td>\n",
       "    </tr>\n",
       "  </tbody>\n",
       "</table>\n",
       "</div>"
      ],
      "text/plain": [
       "       x      y\n",
       "0  3.588  0.473\n",
       "1  3.551  0.784\n",
       "2  3.610  0.847\n",
       "3  3.704  0.904\n",
       "4  3.716  1.118"
      ]
     },
     "execution_count": 13,
     "metadata": {},
     "output_type": "execute_result"
    }
   ],
   "source": [
    "df_3 = pd.read_csv('task-3.csv')\n",
    "df_3.head()"
   ]
  },
  {
   "cell_type": "code",
   "execution_count": 14,
   "metadata": {},
   "outputs": [],
   "source": [
    "x_3 = df_3.x.values\n",
    "y_3 = df_3.y.values"
   ]
  },
  {
   "cell_type": "code",
   "execution_count": 15,
   "metadata": {},
   "outputs": [],
   "source": [
    "# We create polynomial features\n",
    "poly_obj = PolynomialFeatures(degree=10,include_bias=False)\n",
    "X_poly = poly_obj.fit_transform(x_3[:,np.newaxis])\n",
    "\n",
    "x_tr_3, x_te_3, y_tr_3, y_te_3 = train_test_split(X_poly, y_3, train_size=0.5, test_size=0.5, random_state=0)"
   ]
  },
  {
   "cell_type": "code",
   "execution_count": 16,
   "metadata": {},
   "outputs": [
    {
     "name": "stdout",
     "output_type": "stream",
     "text": [
      "RSS on our train data: 0.684\n",
      "RSS on our test data: 1.513\n"
     ]
    }
   ],
   "source": [
    "lr_3 = LinearRegression()\n",
    "lr_3.fit(x_tr_3, y_tr_3)\n",
    "\n",
    "y_tr_3_pred = lr_3.predict(x_tr_3)\n",
    "y_te_3_pred = lr_3.predict(x_te_3)\n",
    "\n",
    "print('RSS on our train data: {:.3f}'.format(RSS(y_tr_3,y_tr_3_pred)))\n",
    "print('RSS on our test data: {:.3f}'.format(RSS(y_te_3,y_te_3_pred)))"
   ]
  },
  {
   "cell_type": "code",
   "execution_count": 17,
   "metadata": {},
   "outputs": [
    {
     "data": {
      "image/png": "[encoded data removed]",
      "text/plain": [
       "<matplotlib.figure.Figure at 0x1a192826d8>"
      ]
     },
     "metadata": {
      "needs_background": "light"
     },
     "output_type": "display_data"
    }
   ],
   "source": [
    "x_line = np.linspace(min(x_3), max(x_3), num=len(df_3))\n",
    "x_line_poly = poly_obj.fit_transform(x_line[:,np.newaxis])\n",
    "y3_model = lr_3.predict(x_line_poly)\n",
    "\n",
    "\n",
    "plt.scatter(data = df_3, x='x', y='y')\n",
    "plt.plot(x_line, y3_model,color='red', label='polyfit(10deg)')\n",
    "plt.legend()\n",
    "plt.show()"
   ]
  },
  {
   "cell_type": "code",
   "execution_count": 18,
   "metadata": {},
   "outputs": [
    {
     "name": "stderr",
     "output_type": "stream",
     "text": [
      "/anaconda2/envs/exts-aml2/lib/python3.6/site-packages/scipy/linalg/basic.py:40: RuntimeWarning: scipy.linalg.solve\n",
      "Ill-conditioned matrix detected. Result is not guaranteed to be accurate.\n",
      "Reciprocal condition number/precision: 8.92831324816788e-28 / 1.1102230246251565e-16\n",
      "  RuntimeWarning)\n",
      "/anaconda2/envs/exts-aml2/lib/python3.6/site-packages/scipy/linalg/basic.py:40: RuntimeWarning: scipy.linalg.solve\n",
      "Ill-conditioned matrix detected. Result is not guaranteed to be accurate.\n",
      "Reciprocal condition number/precision: 4.569976517684515e-26 / 1.1102230246251565e-16\n",
      "  RuntimeWarning)\n",
      "/anaconda2/envs/exts-aml2/lib/python3.6/site-packages/scipy/linalg/basic.py:40: RuntimeWarning: scipy.linalg.solve\n",
      "Ill-conditioned matrix detected. Result is not guaranteed to be accurate.\n",
      "Reciprocal condition number/precision: 3.7428718679564643e-26 / 1.1102230246251565e-16\n",
      "  RuntimeWarning)\n",
      "/anaconda2/envs/exts-aml2/lib/python3.6/site-packages/scipy/linalg/basic.py:40: RuntimeWarning: scipy.linalg.solve\n",
      "Ill-conditioned matrix detected. Result is not guaranteed to be accurate.\n",
      "Reciprocal condition number/precision: 4.241340910140798e-25 / 1.1102230246251565e-16\n",
      "  RuntimeWarning)\n",
      "/anaconda2/envs/exts-aml2/lib/python3.6/site-packages/scipy/linalg/basic.py:40: RuntimeWarning: scipy.linalg.solve\n",
      "Ill-conditioned matrix detected. Result is not guaranteed to be accurate.\n",
      "Reciprocal condition number/precision: 1.0532820488719717e-24 / 1.1102230246251565e-16\n",
      "  RuntimeWarning)\n",
      "/anaconda2/envs/exts-aml2/lib/python3.6/site-packages/scipy/linalg/basic.py:40: RuntimeWarning: scipy.linalg.solve\n",
      "Ill-conditioned matrix detected. Result is not guaranteed to be accurate.\n",
      "Reciprocal condition number/precision: 2.200473307211962e-24 / 1.1102230246251565e-16\n",
      "  RuntimeWarning)\n",
      "/anaconda2/envs/exts-aml2/lib/python3.6/site-packages/scipy/linalg/basic.py:40: RuntimeWarning: scipy.linalg.solve\n",
      "Ill-conditioned matrix detected. Result is not guaranteed to be accurate.\n",
      "Reciprocal condition number/precision: 3.890021076703713e-24 / 1.1102230246251565e-16\n",
      "  RuntimeWarning)\n",
      "/anaconda2/envs/exts-aml2/lib/python3.6/site-packages/scipy/linalg/basic.py:40: RuntimeWarning: scipy.linalg.solve\n",
      "Ill-conditioned matrix detected. Result is not guaranteed to be accurate.\n",
      "Reciprocal condition number/precision: 8.261105843958429e-24 / 1.1102230246251565e-16\n",
      "  RuntimeWarning)\n",
      "/anaconda2/envs/exts-aml2/lib/python3.6/site-packages/scipy/linalg/basic.py:40: RuntimeWarning: scipy.linalg.solve\n",
      "Ill-conditioned matrix detected. Result is not guaranteed to be accurate.\n",
      "Reciprocal condition number/precision: 1.6213240865500185e-23 / 1.1102230246251565e-16\n",
      "  RuntimeWarning)\n",
      "/anaconda2/envs/exts-aml2/lib/python3.6/site-packages/scipy/linalg/basic.py:40: RuntimeWarning: scipy.linalg.solve\n",
      "Ill-conditioned matrix detected. Result is not guaranteed to be accurate.\n",
      "Reciprocal condition number/precision: 3.466189526198015e-23 / 1.1102230246251565e-16\n",
      "  RuntimeWarning)\n",
      "/anaconda2/envs/exts-aml2/lib/python3.6/site-packages/scipy/linalg/basic.py:40: RuntimeWarning: scipy.linalg.solve\n",
      "Ill-conditioned matrix detected. Result is not guaranteed to be accurate.\n",
      "Reciprocal condition number/precision: 6.529008292311938e-23 / 1.1102230246251565e-16\n",
      "  RuntimeWarning)\n",
      "/anaconda2/envs/exts-aml2/lib/python3.6/site-packages/scipy/linalg/basic.py:40: RuntimeWarning: scipy.linalg.solve\n",
      "Ill-conditioned matrix detected. Result is not guaranteed to be accurate.\n",
      "Reciprocal condition number/precision: 1.3296008952396682e-22 / 1.1102230246251565e-16\n",
      "  RuntimeWarning)\n",
      "/anaconda2/envs/exts-aml2/lib/python3.6/site-packages/scipy/linalg/basic.py:40: RuntimeWarning: scipy.linalg.solve\n",
      "Ill-conditioned matrix detected. Result is not guaranteed to be accurate.\n",
      "Reciprocal condition number/precision: 3.295086971345954e-22 / 1.1102230246251565e-16\n",
      "  RuntimeWarning)\n",
      "/anaconda2/envs/exts-aml2/lib/python3.6/site-packages/scipy/linalg/basic.py:40: RuntimeWarning: scipy.linalg.solve\n",
      "Ill-conditioned matrix detected. Result is not guaranteed to be accurate.\n",
      "Reciprocal condition number/precision: 4.915851648899739e-22 / 1.1102230246251565e-16\n",
      "  RuntimeWarning)\n",
      "/anaconda2/envs/exts-aml2/lib/python3.6/site-packages/scipy/linalg/basic.py:40: RuntimeWarning: scipy.linalg.solve\n",
      "Ill-conditioned matrix detected. Result is not guaranteed to be accurate.\n",
      "Reciprocal condition number/precision: 9.836391288773884e-22 / 1.1102230246251565e-16\n",
      "  RuntimeWarning)\n",
      "/anaconda2/envs/exts-aml2/lib/python3.6/site-packages/scipy/linalg/basic.py:40: RuntimeWarning: scipy.linalg.solve\n",
      "Ill-conditioned matrix detected. Result is not guaranteed to be accurate.\n",
      "Reciprocal condition number/precision: 1.9407368643127346e-21 / 1.1102230246251565e-16\n",
      "  RuntimeWarning)\n",
      "/anaconda2/envs/exts-aml2/lib/python3.6/site-packages/scipy/linalg/basic.py:40: RuntimeWarning: scipy.linalg.solve\n",
      "Ill-conditioned matrix detected. Result is not guaranteed to be accurate.\n",
      "Reciprocal condition number/precision: 3.98651541930451e-21 / 1.1102230246251565e-16\n",
      "  RuntimeWarning)\n",
      "/anaconda2/envs/exts-aml2/lib/python3.6/site-packages/scipy/linalg/basic.py:40: RuntimeWarning: scipy.linalg.solve\n",
      "Ill-conditioned matrix detected. Result is not guaranteed to be accurate.\n",
      "Reciprocal condition number/precision: 8.358029832083052e-21 / 1.1102230246251565e-16\n",
      "  RuntimeWarning)\n",
      "/anaconda2/envs/exts-aml2/lib/python3.6/site-packages/scipy/linalg/basic.py:40: RuntimeWarning: scipy.linalg.solve\n",
      "Ill-conditioned matrix detected. Result is not guaranteed to be accurate.\n",
      "Reciprocal condition number/precision: 1.619635238768067e-20 / 1.1102230246251565e-16\n",
      "  RuntimeWarning)\n",
      "/anaconda2/envs/exts-aml2/lib/python3.6/site-packages/scipy/linalg/basic.py:40: RuntimeWarning: scipy.linalg.solve\n",
      "Ill-conditioned matrix detected. Result is not guaranteed to be accurate.\n",
      "Reciprocal condition number/precision: 4.6802812188168404e-20 / 1.1102230246251565e-16\n",
      "  RuntimeWarning)\n",
      "/anaconda2/envs/exts-aml2/lib/python3.6/site-packages/scipy/linalg/basic.py:40: RuntimeWarning: scipy.linalg.solve\n",
      "Ill-conditioned matrix detected. Result is not guaranteed to be accurate.\n",
      "Reciprocal condition number/precision: 6.781810444345795e-20 / 1.1102230246251565e-16\n",
      "  RuntimeWarning)\n",
      "/anaconda2/envs/exts-aml2/lib/python3.6/site-packages/scipy/linalg/basic.py:40: RuntimeWarning: scipy.linalg.solve\n",
      "Ill-conditioned matrix detected. Result is not guaranteed to be accurate.\n",
      "Reciprocal condition number/precision: 1.326444832535708e-19 / 1.1102230246251565e-16\n",
      "  RuntimeWarning)\n",
      "/anaconda2/envs/exts-aml2/lib/python3.6/site-packages/scipy/linalg/basic.py:40: RuntimeWarning: scipy.linalg.solve\n",
      "Ill-conditioned matrix detected. Result is not guaranteed to be accurate.\n",
      "Reciprocal condition number/precision: 2.61353955311315e-19 / 1.1102230246251565e-16\n",
      "  RuntimeWarning)\n",
      "/anaconda2/envs/exts-aml2/lib/python3.6/site-packages/scipy/linalg/basic.py:40: RuntimeWarning: scipy.linalg.solve\n",
      "Ill-conditioned matrix detected. Result is not guaranteed to be accurate.\n",
      "Reciprocal condition number/precision: 5.203503244722166e-19 / 1.1102230246251565e-16\n",
      "  RuntimeWarning)\n",
      "/anaconda2/envs/exts-aml2/lib/python3.6/site-packages/scipy/linalg/basic.py:40: RuntimeWarning: scipy.linalg.solve\n",
      "Ill-conditioned matrix detected. Result is not guaranteed to be accurate.\n",
      "Reciprocal condition number/precision: 1.0409344590866531e-18 / 1.1102230246251565e-16\n",
      "  RuntimeWarning)\n",
      "/anaconda2/envs/exts-aml2/lib/python3.6/site-packages/scipy/linalg/basic.py:40: RuntimeWarning: scipy.linalg.solve\n",
      "Ill-conditioned matrix detected. Result is not guaranteed to be accurate.\n",
      "Reciprocal condition number/precision: 2.0922929630714173e-18 / 1.1102230246251565e-16\n",
      "  RuntimeWarning)\n",
      "/anaconda2/envs/exts-aml2/lib/python3.6/site-packages/scipy/linalg/basic.py:40: RuntimeWarning: scipy.linalg.solve\n",
      "Ill-conditioned matrix detected. Result is not guaranteed to be accurate.\n",
      "Reciprocal condition number/precision: 4.2242667933949815e-18 / 1.1102230246251565e-16\n",
      "  RuntimeWarning)\n",
      "/anaconda2/envs/exts-aml2/lib/python3.6/site-packages/scipy/linalg/basic.py:40: RuntimeWarning: scipy.linalg.solve\n",
      "Ill-conditioned matrix detected. Result is not guaranteed to be accurate.\n",
      "Reciprocal condition number/precision: 8.584091520417898e-18 / 1.1102230246251565e-16\n",
      "  RuntimeWarning)\n",
      "/anaconda2/envs/exts-aml2/lib/python3.6/site-packages/scipy/linalg/basic.py:40: RuntimeWarning: scipy.linalg.solve\n",
      "Ill-conditioned matrix detected. Result is not guaranteed to be accurate.\n",
      "Reciprocal condition number/precision: 1.7631764677843208e-17 / 1.1102230246251565e-16\n",
      "  RuntimeWarning)\n",
      "/anaconda2/envs/exts-aml2/lib/python3.6/site-packages/scipy/linalg/basic.py:40: RuntimeWarning: scipy.linalg.solve\n",
      "Ill-conditioned matrix detected. Result is not guaranteed to be accurate.\n",
      "Reciprocal condition number/precision: 3.584753723540336e-17 / 1.1102230246251565e-16\n",
      "  RuntimeWarning)\n",
      "/anaconda2/envs/exts-aml2/lib/python3.6/site-packages/scipy/linalg/basic.py:40: RuntimeWarning: scipy.linalg.solve\n",
      "Ill-conditioned matrix detected. Result is not guaranteed to be accurate.\n",
      "Reciprocal condition number/precision: 1.0473967674079426e-16 / 1.1102230246251565e-16\n",
      "  RuntimeWarning)\n"
     ]
    },
    {
     "data": {
      "image/png": "[encoded data removed]",
      "text/plain": [
       "<matplotlib.figure.Figure at 0x1a1928e4e0>"
      ]
     },
     "metadata": {
      "needs_background": "light"
     },
     "output_type": "display_data"
    }
   ],
   "source": [
    "alphas = np.logspace(-20,10,num=100)\n",
    "\n",
    "train_scores = []\n",
    "test_scores = []\n",
    "\n",
    "for alpha in alphas:\n",
    "    ridge = Ridge(alpha=alpha)\n",
    "    ridge.fit(x_tr_3, y_tr_3)\n",
    "    \n",
    "    y_tr_3_pred = ridge.predict(x_tr_3)\n",
    "    train_scores.append(RSS(y_tr_3, y_tr_3_pred))\n",
    "    \n",
    "    y_te_3_pred = ridge.predict(x_te_3)\n",
    "    test_scores.append(RSS(y_te_3, y_te_3_pred))\n",
    "\n",
    "# Plot the validation curves\n",
    "plt.semilogx(alphas, train_scores, label='train curve')\n",
    "plt.semilogx(alphas, test_scores, label='test curve')\n",
    "plt.xlabel('alphas')\n",
    "plt.ylabel('RSS')\n",
    "plt.legend()\n",
    "plt.show()"
   ]
  },
  {
   "cell_type": "code",
   "execution_count": 19,
   "metadata": {},
   "outputs": [
    {
     "name": "stdout",
     "output_type": "stream",
     "text": [
      "Best alpha 6.1e-02\n",
      "Ridge regression 2 - RSS train: 1.076, RSS test: 0.900\n"
     ]
    }
   ],
   "source": [
    "# Find best alpha\n",
    "idx = np.argmin(test_scores)\n",
    "best_alpha = alphas[idx]\n",
    "print('Best alpha {:.1e}'.format(best_alpha))\n",
    "\n",
    "# Print train/test scores\n",
    "print('Ridge regression 2 - RSS train: {:.3f}, RSS test: {:.3f}'.format(\n",
    "    train_scores[idx],\n",
    "    test_scores[idx]\n",
    "))"
   ]
  },
  {
   "cell_type": "code",
   "execution_count": 20,
   "metadata": {},
   "outputs": [
    {
     "data": {
      "image/png": "[encoded data removed]",
      "text/plain": [
       "<matplotlib.figure.Figure at 0x1a2544a240>"
      ]
     },
     "metadata": {
      "needs_background": "light"
     },
     "output_type": "display_data"
    }
   ],
   "source": [
    "ridge2 = Ridge(best_alpha)\n",
    "ridge2.fit(x_tr_3, y_tr_3)\n",
    "\n",
    "# Plot model\n",
    "x_line = np.linspace(min(x_3), max(x_3), num=len(df_3))\n",
    "X_line_poly = poly_obj.fit_transform(x_line[:, np.newaxis])\n",
    "y_line = ridge2.predict(X_line_poly)\n",
    "\n",
    "plt.scatter(data=df_3, x='x', y='y')\n",
    "plt.plot(x_line, y_line, color='red', label='tuned alpha')\n",
    "plt.legend()\n",
    "plt.show()\n",
    "\n"
   ]
  }
 ],
 "metadata": {
  "kernelspec": {
   "display_name": "Python 3",
   "language": "python",
   "name": "python3"
  },
  "language_info": {
   "codemirror_mode": {
    "name": "ipython",
    "version": 3
   },
   "file_extension": ".py",
   "mimetype": "text/x-python",
   "name": "python",
   "nbconvert_exporter": "python",
   "pygments_lexer": "ipython3",
   "version": "3.6.4"
  }
 },
 "nbformat": 4,
 "nbformat_minor": 2
}
